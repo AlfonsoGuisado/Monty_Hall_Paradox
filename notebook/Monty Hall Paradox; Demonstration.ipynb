{
 "cells": [
  {
   "cell_type": "markdown",
   "id": "23dd570d-8310-45ac-af05-803bae4ed864",
   "metadata": {},
   "source": [
    "# Paradoja de Monty Hall; Demostración Matemática."
   ]
  },
  {
   "cell_type": "markdown",
   "id": "c5cb4383-f134-432f-8ea0-4742acfdce99",
   "metadata": {},
   "source": [
    "## Introducción.\n",
    "\n",
    "La demostracíon que se va ha presentar a continuación, refiere a la de la Paradoja clásica de Monty Hall, en la que hay 3 puertas y un premio, y por consecuencia el presentador solo puede abrir una puerta. Para ello recurrimos a los fundamentos de la estadística, probablidad y desarrollo bayesiano."
   ]
  },
  {
   "cell_type": "markdown",
   "id": "55369a3a",
   "metadata": {},
   "source": [
    "## Demostración Matemática de la Paradoja de Monty Hall."
   ]
  },
  {
   "cell_type": "markdown",
   "id": "75bbcda4",
   "metadata": {},
   "source": [
    "Teorema de Bayes: Es la expresión de probabilidad condicionada, cuyo valor es la eventualidad de que ocurra un suceso $B$, como consecuencia de otro suceso $A$, y se denota por $P(B|A)$. Se calcula utilizando la siguiente expresión:\n",
    "$$\n",
    "    P(B|A) = \\frac{P(A|B)·P(B)}{P(A)}\n",
    "$$\n",
    "Tenemos los siguientes sucesos:\n",
    "\n",
    "- $P$ = {$P1$: Suceso el premio está en la puerta 1, $P2$: Suceso el premio está en la puerta 2, $P3$: Suceso el premio está en la puerta 3}\n",
    "- $Q$ = {$Q1$: Suceso el presentador abre la puerta 1, $Q2$: Suceso el presentador abre la puerta 2, $Q3$: Suceso el presentador abre la puerta 3}\n",
    "\n",
    "Ahora, situémonos en el hipotético escenario en el que hemos elegido una puerta aleatoriamente, por ejemplo la puerta 1, y el presentador nos muestra una cabra tras la puerta 2, por ejemplo. Desde este punto tenemos dos posibles escenarios:\n",
    "$$\n",
    "    P(P1|Q2) = \\frac{P(Q2|P1)·P(P1)}{P(Q2)}\n",
    "$$\n",
    "$$\n",
    "    P(P3|Q2) = \\frac{P(Q2|P3)·P(P3)}{P(Q2)}\n",
    "$$\n",
    "Matizar y recalcar que las probabilidades no condicionadas son probabilidades a priori, y las probabilidades condicionadas, es decir, cuando el presentador abre una puerta, son probabilidades a posteriori. Además, el premio solo puede estar en la puerta 1 o 3: \n",
    "$$\n",
    "    P(P1|Q2) + P(P3|Q2) = 1.\n",
    "$$\n",
    "Entonces, como las probabilidades a priori $P(P1) = P(P3)$ y $P(P1|Q2) + P(P3|Q2) = 1$, la única diferencia entre las probablididades $P(P1|Q2)$ y $P(P3|Q2)$ está dada por sus repectivos 'likelihood' que son $P(Q2|P1)$ y $P(Q2|P3)$. Por lo tanto:\n",
    "\n",
    "- La probabilidad de que el presentador abra la puerta 2 estando el premio en la puerta 1 $P(Q2|P1) = 1/2$, dado que el presentador puede abrir la puerta 2 o 3.\n",
    "- Sin embargo, la probabilidad de que el presentador abra la puerta 2 estando el premio en la puerta $3 P(Q2|P1) = 1$, porque la puerta 3 no la puede abrir debido a que ahí se encuentra el premio.\n",
    "\n",
    "Como resultado, tenemos que:\n",
    "$$\n",
    "     \\frac{P(P1|Q2)}{P(Q2|P1)} = \\frac{P(P3|Q2)}{P(Q2|P3)}\n",
    "$$\n",
    "$$\n",
    "    \\frac{P(P1|Q2)}{1/2} = P(P3|Q2)\n",
    "$$\n",
    "$$\n",
    "    2·P(P1|Q2) = P(P3|Q2)\n",
    "$$\n",
    "Entonces:\n",
    "$$\n",
    "    P(P1|Q2) + P(P3|Q2) = 1\n",
    "$$\n",
    "$$\n",
    "    P(P1|Q2) + 2·P(P1|Q2) = 1\n",
    "$$\n",
    "$$\n",
    "    3·P(P1|Q2) = 1\n",
    "$$\n",
    "Por último, como: \n",
    "$$\n",
    "    P(P1|Q2) = 1/3\n",
    "$$\n",
    "$$\n",
    "    P(P3|Q2) = 2/3\n",
    "$$\n",
    "\n",
    "El problema de la paradoja, así como su demostración, se puede generalizar para un numero *n* de puertas iniciales en el concurso, y *m* puertas descartadas por el presentador después de la elección inicial del concursante. En la generalización, las probabilidades de ganar el premio al decidir si se cambia de puerta, depende también de estos parámetros *n* y *m*."
   ]
  },
  {
   "cell_type": "markdown",
   "id": "e2a4f368-610e-423e-9f49-6d66b38fc2cf",
   "metadata": {},
   "source": [
    "## Autor: Alfonso Guisado González"
   ]
  }
 ],
 "metadata": {
  "kernelspec": {
   "display_name": "Kernel (MontyHall)",
   "language": "python",
   "name": "env_montyhall"
  },
  "language_info": {
   "codemirror_mode": {
    "name": "ipython",
    "version": 3
   },
   "file_extension": ".py",
   "mimetype": "text/x-python",
   "name": "python",
   "nbconvert_exporter": "python",
   "pygments_lexer": "ipython3",
   "version": "3.12.10"
  }
 },
 "nbformat": 4,
 "nbformat_minor": 5
}
